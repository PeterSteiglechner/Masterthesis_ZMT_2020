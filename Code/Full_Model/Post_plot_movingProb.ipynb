{
 "cells": [
  {
   "cell_type": "code",
   "execution_count": 1,
   "metadata": {},
   "outputs": [],
   "source": []
  },
  {
   "cell_type": "code",
   "execution_count": 2,
   "metadata": {},
   "outputs": [],
   "source": [
    "import numpy as np \n",
    "import xarray as xr \n",
    "import matplotlib.pyplot as plt \n",
    "import observefunc as obs\n",
    "plt.rcParams.update({\"font.size\":18})\n",
    "\n",
    "#folder=\"/home/peter/EasterIslands/Code/Full_Model/Figs_May11_grid50/FullModel_grid50_repr7e-03_mv100_noRegrowth_highFix_seed101/\"\n",
    "folder=\"/home/peter/EasterIslands/Code/Full_Model/Figs_May18/FullModel_grid50_gH11e+00_noRegrowth_highFix_seed100/\"\n",
    "data = xr.open_dataset(folder+\"Statistics.ncdf\")\n",
    "\n",
    "import pickle\n",
    "import config\n",
    "from pathlib import Path   # for creating a new directory\n",
    "filename = \"Map/EI_grid\"+str(data.gridpoints_y)+\"_rad\"+str(data.r_T)+\"+\"+str(data.r_F)+\"+\"+str(data.r_M_later)\n",
    "if Path(filename).is_file():\n",
    "    with open(filename, \"rb\") as EIfile:\n",
    "        config.EI = pickle.load(EIfile)"
   ]
  },
  {
   "cell_type": "code",
   "execution_count": 3,
   "metadata": {},
   "outputs": [],
   "source": [
    "with open(folder+\"Penalties_AG5_t=944\", \"rb\") as PenaltyFile:\n",
    "    P = pickle.load(PenaltyFile)"
   ]
  },
  {
   "cell_type": "code",
   "execution_count": 4,
   "metadata": {},
   "outputs": [
    {
     "output_type": "error",
     "ename": "IndexError",
     "evalue": "invalid index to scalar variable.",
     "traceback": [
      "\u001b[0;31m---------------------------------------------------------------------------\u001b[0m",
      "\u001b[0;31mIndexError\u001b[0m                                Traceback (most recent call last)",
      "\u001b[0;32m<ipython-input-4-1fa236230765>\u001b[0m in \u001b[0;36m<module>\u001b[0;34m\u001b[0m\n\u001b[1;32m      1\u001b[0m \u001b[0;32mfrom\u001b[0m \u001b[0mobservefunc\u001b[0m \u001b[0;32mimport\u001b[0m \u001b[0mplot_movingProb\u001b[0m\u001b[0;34m\u001b[0m\u001b[0;34m\u001b[0m\u001b[0m\n\u001b[0;32m----> 2\u001b[0;31m \u001b[0mplot_movingProb\u001b[0m\u001b[0;34m(\u001b[0m\u001b[0mP\u001b[0m\u001b[0;34m,\u001b[0m \u001b[0mfolder\u001b[0m\u001b[0;34m,\u001b[0m \u001b[0mdata\u001b[0m\u001b[0;34m)\u001b[0m\u001b[0;34m\u001b[0m\u001b[0;34m\u001b[0m\u001b[0m\n\u001b[0m",
      "\u001b[0;32m~/EasterIslands/Code/Full_Model/observefunc.py\u001b[0m in \u001b[0;36mplot_movingProb\u001b[0;34m(P, folder, data)\u001b[0m\n\u001b[1;32m    398\u001b[0m         \u001b[0;31m#if not all(config.AG0_mv_inds==P['AG_MovingRadius']):\u001b[0m\u001b[0;34m\u001b[0m\u001b[0;34m\u001b[0m\u001b[0;34m\u001b[0m\u001b[0m\n\u001b[1;32m    399\u001b[0m         \u001b[0;31m#    print(\"Error in Plot Penalties\")\u001b[0m\u001b[0;34m\u001b[0m\u001b[0;34m\u001b[0m\u001b[0;34m\u001b[0m\u001b[0m\n\u001b[0;32m--> 400\u001b[0;31m         \u001b[0max2\u001b[0m\u001b[0;34m.\u001b[0m\u001b[0mplot\u001b[0m\u001b[0;34m(\u001b[0m\u001b[0mP\u001b[0m\u001b[0;34m[\u001b[0m\u001b[0;34m'AG_NewPos'\u001b[0m\u001b[0;34m]\u001b[0m\u001b[0;34m[\u001b[0m\u001b[0;36m0\u001b[0m\u001b[0;34m]\u001b[0m\u001b[0;34m,\u001b[0m \u001b[0mconfig\u001b[0m\u001b[0;34m.\u001b[0m\u001b[0mEI\u001b[0m\u001b[0;34m.\u001b[0m\u001b[0mcorners\u001b[0m\u001b[0;34m[\u001b[0m\u001b[0;34m'upper_left'\u001b[0m\u001b[0;34m]\u001b[0m\u001b[0;34m[\u001b[0m\u001b[0;36m1\u001b[0m\u001b[0;34m]\u001b[0m\u001b[0;34m-\u001b[0m\u001b[0mP\u001b[0m\u001b[0;34m[\u001b[0m\u001b[0;34m'AG_NewPos'\u001b[0m\u001b[0;34m]\u001b[0m\u001b[0;34m[\u001b[0m\u001b[0;36m1\u001b[0m\u001b[0;34m]\u001b[0m\u001b[0;34m,\u001b[0m \u001b[0;34m\"o\"\u001b[0m\u001b[0;34m,\u001b[0m \u001b[0mmarkersize\u001b[0m \u001b[0;34m=\u001b[0m \u001b[0mint\u001b[0m\u001b[0;34m(\u001b[0m\u001b[0mP\u001b[0m\u001b[0;34m[\u001b[0m\u001b[0;34m'AG_pop'\u001b[0m\u001b[0;34m]\u001b[0m\u001b[0;34m/\u001b[0m\u001b[0;36m3\u001b[0m\u001b[0;34m)\u001b[0m\u001b[0;34m,\u001b[0m\u001b[0mcolor\u001b[0m\u001b[0;34m=\u001b[0m\u001b[0;34m(\u001b[0m\u001b[0;34m(\u001b[0m\u001b[0;36m1\u001b[0m\u001b[0;34m-\u001b[0m\u001b[0mP\u001b[0m\u001b[0;34m[\u001b[0m\u001b[0;34m'AG_TPref'\u001b[0m\u001b[0;34m]\u001b[0m\u001b[0;34m[\u001b[0m\u001b[0;36m0\u001b[0m\u001b[0;34m]\u001b[0m\u001b[0;34m)\u001b[0m\u001b[0;34m,\u001b[0m \u001b[0;36m0\u001b[0m\u001b[0;34m,\u001b[0m \u001b[0;36m1\u001b[0m\u001b[0;34m,\u001b[0m\u001b[0;36m1\u001b[0m\u001b[0;34m)\u001b[0m\u001b[0;34m,\u001b[0m \u001b[0mfillstyle\u001b[0m\u001b[0;34m=\u001b[0m\u001b[0;34m\"none\"\u001b[0m\u001b[0;34m)\u001b[0m\u001b[0;34m\u001b[0m\u001b[0;34m\u001b[0m\u001b[0m\n\u001b[0m\u001b[1;32m    401\u001b[0m         \u001b[0max2\u001b[0m\u001b[0;34m.\u001b[0m\u001b[0mplot\u001b[0m\u001b[0;34m(\u001b[0m\u001b[0mP\u001b[0m\u001b[0;34m[\u001b[0m\u001b[0;34m'AG_Pos'\u001b[0m\u001b[0;34m]\u001b[0m\u001b[0;34m[\u001b[0m\u001b[0;36m0\u001b[0m\u001b[0;34m]\u001b[0m\u001b[0;34m,\u001b[0m \u001b[0mconfig\u001b[0m\u001b[0;34m.\u001b[0m\u001b[0mEI\u001b[0m\u001b[0;34m.\u001b[0m\u001b[0mcorners\u001b[0m\u001b[0;34m[\u001b[0m\u001b[0;34m'upper_left'\u001b[0m\u001b[0;34m]\u001b[0m\u001b[0;34m[\u001b[0m\u001b[0;36m1\u001b[0m\u001b[0;34m]\u001b[0m\u001b[0;34m-\u001b[0m\u001b[0mP\u001b[0m\u001b[0;34m[\u001b[0m\u001b[0;34m'AG_Pos'\u001b[0m\u001b[0;34m]\u001b[0m\u001b[0;34m[\u001b[0m\u001b[0;36m1\u001b[0m\u001b[0;34m]\u001b[0m\u001b[0;34m,\u001b[0m \u001b[0;34m\"o\"\u001b[0m\u001b[0;34m,\u001b[0m \u001b[0mmarkersize\u001b[0m \u001b[0;34m=\u001b[0m \u001b[0mint\u001b[0m\u001b[0;34m(\u001b[0m\u001b[0mP\u001b[0m\u001b[0;34m[\u001b[0m\u001b[0;34m'AG_pop'\u001b[0m\u001b[0;34m]\u001b[0m\u001b[0;34m/\u001b[0m\u001b[0;36m3\u001b[0m\u001b[0;34m)\u001b[0m \u001b[0;34m,\u001b[0m\u001b[0mcolor\u001b[0m\u001b[0;34m=\u001b[0m\u001b[0;34m(\u001b[0m\u001b[0;34m(\u001b[0m\u001b[0;36m1\u001b[0m\u001b[0;34m-\u001b[0m\u001b[0mP\u001b[0m\u001b[0;34m[\u001b[0m\u001b[0;34m'AG_TPref'\u001b[0m\u001b[0;34m]\u001b[0m\u001b[0;34m[\u001b[0m\u001b[0;36m0\u001b[0m\u001b[0;34m]\u001b[0m\u001b[0;34m)\u001b[0m\u001b[0;34m,\u001b[0m \u001b[0;36m0\u001b[0m\u001b[0;34m,\u001b[0m \u001b[0;36m1\u001b[0m\u001b[0;34m,\u001b[0m\u001b[0;36m1\u001b[0m\u001b[0;34m)\u001b[0m\u001b[0;34m)\u001b[0m\u001b[0;34m\u001b[0m\u001b[0;34m\u001b[0m\u001b[0m\n\u001b[1;32m    402\u001b[0m \u001b[0;34m\u001b[0m\u001b[0m\n",
      "\u001b[0;31mIndexError\u001b[0m: invalid index to scalar variable."
     ]
    }
   ],
   "source": [
    "from observefunc import plot_movingProb\n",
    "plot_movingProb(P, folder, data)"
   ]
  },
  {
   "cell_type": "code",
   "execution_count": 6,
   "metadata": {},
   "outputs": [
    {
     "output_type": "execute_result",
     "data": {
      "text/plain": "<xarray.Dataset>\nDimensions:             (2d: 2, index: 13, time: 300, triangles: 2768)\nCoordinates:\n  * time                (time) int64 801 802 803 804 805 ... 1097 1098 1099 1100\n  * index               (index) int64 0 1 2 3 4 5 6 7 8 9 10 11 12\n  * triangles           (triangles) int64 0 1 2 3 4 ... 2763 2764 2765 2766 2767\n  * 2d                  (2d) object 'x' 'y'\nData variables:\n    total_agents        (time) int64 ...\n    total_excessdeaths  (time) float64 ...\n    total_excessbirths  (time) float64 ...\n    T_ct                (triangles, time) int32 ...\n    F_ct                (triangles, time) int32 ...\n    pop_ct              (triangles, time) int32 ...\n    happyMeans          (time) float64 ...\n    happyStd            (time) float64 ...\n    treeFills           (time) float64 ...\n    farmingFills        (time) float64 ...\n    SizeAgents          (index, time) float64 ...\n    PosAgents           (index, 2d, time) float64 ...\n    TreePrefAgents      (index, time) float64 ...\n    Penalty_Mean        (time) float64 ...\n    Penalty_Std         (time) float64 ...\n    FishersPop          (time) float64 ...\n    GardenFraction      (time) float64 ...\n    Fraction_eroded     (time) float64 ...\n    Nr_Moves            (time) float64 ...\n    TreeRegrowth        (time) float64 ...\n    TreePopup           (time) float64 ...\nAttributes:\n    firesLoc:                                                       [2351 235...\n    firesSize:                                                      [114 114 ...\n    firesTime:                                                      [ 901  90...\n    r_M_init:                                                       100\n    r_M_later:                                                      5\n    pop_restrictedMoving:                                           5000\n    w01:                                                            11.014182...\n    w99:                                                            110.14182...\n    el01:                                                           0\n    el99:                                                           500\n    sl01:                                                           0\n    sl99:                                                           10\n    tr01:                                                           7560.0\n    f01:                                                            16.8\n    pd01:                                                           0\n    pd99:                                                           300\n    alpha_W:                                                        0.2\n    alpha_T:                                                        0.2\n    alpha_D:                                                        0.2\n    alpha_F:                                                        0.2\n    alpha_G:                                                        0.2\n    gamma:                                                          20\n    timeSwitchedMovingRad:                                          nan\n    r_T:                                                            2\n    r_F:                                                            1\n    F_Req_pP:                                                       0.5\n    T_Req_pP:                                                       5\n    T_Pref_max:                                                     0.8\n    T_Pref_min:                                                     0.2\n    xi_T_Pref:                                                      0\n    T_Pref_fisher_min:                                              0.5\n    MaxFisherAgents:                                                10\n    g_H1:                                                           1.007\n    H_equ:                                                          0.6883\n    SplitPop:                                                       12\n    pop_agent_max_mean:                                             42.0\n    pop_agent_max_std:                                              3\n    pop_agent_min:                                                  6\n    g_shape:                                                        1.95\n    g_scale:                                                        0.1\n    N_agents_arrival:                                               2\n    Pop_arrival:                                                    40\n    r_M_arrival:                                                    1\n    updatewithreplacement:                                          0\n    seed:                                                           100\n    t_end:                                                          1100\n    folder:                                                         Figs_May1...\n    gridpoints_y:                                                   50\n    AngleThreshold:                                                 35\n    N_trees_arrival:                                                4000000.0\n    km2_to_acre:                                                    247.10538...\n    tree_regrowth_rate:                                             0.05\n    F_PI_poor:                                                      0.1\n    F_PI_eroded:                                                    0.5\n    F_PI_well:                                                      0.8\n    tree_pop_percentage:                                            0.005\n    barrenYears_beforePopUp:                                        10\n    drought_RanoRaraku_1_start:                                     800\n    drought_RanoRaraku_1_end:                                       1200\n    drought_RanoRaraku_2_start:                                     1570\n    drought_RanoRaraku_2_end:                                       1720\n    TreeDensityConditionParams_minElev:                             0\n    TreeDensityConditionParams_maxSlopeHighD:                       10\n    TreeDensityConditionParams_ElevHighD:                           450\n    TreeDensityConditionParams_maxElev:                             450\n    TreeDensityConditionParams_maxSlope:                            10\n    TreeDensityConditionParams_factorBetweenHighandLowTreeDensity:  1"
     },
     "metadata": {},
     "execution_count": 6
    }
   ],
   "source": [
    "data"
   ]
  },
  {
   "cell_type": "code",
   "execution_count": null,
   "metadata": {},
   "outputs": [],
   "source": []
  }
 ],
 "metadata": {
  "language_info": {
   "codemirror_mode": {
    "name": "ipython",
    "version": 3
   },
   "file_extension": ".py",
   "mimetype": "text/x-python",
   "name": "python",
   "nbconvert_exporter": "python",
   "pygments_lexer": "ipython3",
   "version": "3.7.3-final"
  },
  "orig_nbformat": 2,
  "kernelspec": {
   "name": "python37364bitbaseconda705cb837e8a34aaaa70364e4600b9a6a",
   "display_name": "Python 3.7.3 64-bit ('base': conda)"
  }
 },
 "nbformat": 4,
 "nbformat_minor": 2
}